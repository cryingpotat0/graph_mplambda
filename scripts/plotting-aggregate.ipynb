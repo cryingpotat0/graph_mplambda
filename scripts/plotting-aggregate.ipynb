{
 "cells": [
  {
   "cell_type": "code",
   "execution_count": 1,
   "metadata": {
    "nbpresent": {
     "id": "090b4de1-0511-4f90-9c23-3626c7107bb8"
    }
   },
   "outputs": [],
   "source": [
    "import pandas as pd\n",
    "import seaborn as sns\n",
    "import numpy as np\n",
    "\n",
    "import os, re, glob\n",
    "import matplotlib as mpl\n",
    "import matplotlib\n",
    "# matplotlib.rcParams['text.usetex'] = True\n",
    "# matplotlib.rcParams['text.latex.unicode']=True\n",
    "# matplotlib.rcParams['ps.useafm'] = True\n",
    "# matplotlib.rcParams['pdf.use14corefonts'] = True\n",
    "import matplotlib.pyplot as plt"
   ]
  },
  {
   "cell_type": "code",
   "execution_count": 5,
   "metadata": {
    "nbpresent": {
     "id": "7271a6c9-f33f-4f6f-a81a-093832f5510d"
    }
   },
   "outputs": [],
   "source": [
    "global_palette = \"tab10\"#[\"#9b59b6\", \"#3498db\", \"#95a5a6\", \"#e74c3c\", \"#34495e\", \"#2ecc71\"][:5]\n",
    "ROOTS = {\n",
    "#          \"./08_13_graph_size_2500/async_sharing/\": \"Async\", \n",
    "#         \"./08_13_graph_size_2500/async_work_stealing_log_sharing/\": \"Async-Log\",\n",
    "#         \"./08_13_graph_size_2500/no_sharing/\": \"None\",\n",
    "#         \"./08_13_graph_size_2500/log_sharing/\": \"Log\",\n",
    "    \n",
    "#       \"./8_03_work_sharing_async/\": \"Async\", \n",
    "#         \"./8_03_no_work_sharing/\": \"None\",\n",
    "#         \"./8_03_work_sharing_sync/\": \"Sync\",\n",
    "#         \"./8_07_no_work_sharing_log_dist/\": \"Log\",\n",
    "    \n",
    "#     \"./10_17_se3_twistycool/async/\": \"Async\", \n",
    "#         \"./10_17_se3_twistycool/none/\": \"None\",\n",
    "#         \"./10_17_se3_twistycool/sync/\": \"Sync\",\n",
    "#         \"./10_17_se3_twistycool/log/\": \"Log\",\n",
    "#     \"./10_17_se3_twistycool/async_log/\": \"Async-Log\"\n",
    "}\n",
    "# algorithm_names = {\"prm_fixed_graph\": \"PRM Fixed Graph\", \"prm_common_seed\": \"PRM Common Seed\"}\n",
    "algorithm_names = {\"prm_common_seed\": \"PRM Common Seed\"}\n",
    "# algorithm_names = {\"prm_fixed_graph\": \"PRM Fixed Graph\"}\n",
    "scenario = \"se3_cubicles\"\n",
    "ROOT = \"./10_20_se3_cubicles/\""
   ]
  },
  {
   "cell_type": "markdown",
   "metadata": {},
   "source": [
    "### Lambda Start/ End time "
   ]
  },
  {
   "cell_type": "code",
   "execution_count": 7,
   "metadata": {},
   "outputs": [],
   "source": [
    "plot_lambdas = sorted([128])\n",
    "plot_lambdas_id = \"-\".join(str(first) for first in plot_lambdas)\n",
    "df = None\n",
    "SAVE_ROOT = \"../build/aggregate_figures/{}/{}\".format(scenario, plot_lambdas_id)\n",
    "if not os.path.exists(SAVE_ROOT): os.makedirs(SAVE_ROOT)\n",
    "\n",
    "# for root, root_name in ROOTS.items():\n",
    "#     curr_df = pd.read_csv(\"{}/lambda_start_end_times.csv\".format(root))\n",
    "#     curr_df = curr_df[curr_df[\"num_lambdas\"].isin(plot_lambdas)]\n",
    "#     curr_df = curr_df[curr_df[\"scenario\"] == scenario]\n",
    "# #     curr_df = curr_df[curr_df[\"trial_num\"]!= \"trial=1\"]\n",
    "#     curr_df[\"root_name\"] = root_name\n",
    "#     if df is None:\n",
    "#         df = curr_df\n",
    "#     else:\n",
    "#         df = pd.concat([df, curr_df])\n",
    "df = pd.read_csv(\"{}/lambda_start_end_times.csv\".format(ROOT))\n",
    "df = df[df[\"num_lambdas\"].isin(plot_lambdas)]\n",
    "df = df[df[\"scenario\"] == scenario]\n",
    "\n",
    "alg_name_map = {\n",
    "    \"async\": \"Async\",\n",
    "    \"async-log\": \"Async-Log\",\n",
    "    \"sync\": \"Sync\",\n",
    "    \"none\": \"None\",\n",
    "    \"log\": \"Log\",\n",
    "    \"modulo\": \"Modulo\"\n",
    "}\n",
    "\n",
    "df[\"root_name\"] = df.apply(lambda row: alg_name_map[row[\"algorithm\"]], axis=1) "
   ]
  },
  {
   "cell_type": "code",
   "execution_count": 8,
   "metadata": {},
   "outputs": [
    {
     "data": {
      "text/html": [
       "<div>\n",
       "<style scoped>\n",
       "    .dataframe tbody tr th:only-of-type {\n",
       "        vertical-align: middle;\n",
       "    }\n",
       "\n",
       "    .dataframe tbody tr th {\n",
       "        vertical-align: top;\n",
       "    }\n",
       "\n",
       "    .dataframe thead th {\n",
       "        text-align: right;\n",
       "    }\n",
       "</style>\n",
       "<table border=\"1\" class=\"dataframe\">\n",
       "  <thead>\n",
       "    <tr style=\"text-align: right;\">\n",
       "      <th></th>\n",
       "      <th>Unnamed: 0</th>\n",
       "      <th>algorithm</th>\n",
       "      <th>graph_size</th>\n",
       "      <th>lambda_duration</th>\n",
       "      <th>lambda_end_time</th>\n",
       "      <th>lambda_start_time</th>\n",
       "      <th>num_lambdas</th>\n",
       "      <th>num_samples</th>\n",
       "      <th>random_seed</th>\n",
       "      <th>scenario</th>\n",
       "      <th>trial_num</th>\n",
       "      <th>root_name</th>\n",
       "      <th>identifier</th>\n",
       "      <th>cost</th>\n",
       "    </tr>\n",
       "  </thead>\n",
       "  <tbody>\n",
       "    <tr>\n",
       "      <th>0</th>\n",
       "      <td>0</td>\n",
       "      <td>none</td>\n",
       "      <td>17000</td>\n",
       "      <td>4336</td>\n",
       "      <td>4427</td>\n",
       "      <td>91</td>\n",
       "      <td>128</td>\n",
       "      <td>10</td>\n",
       "      <td>10</td>\n",
       "      <td>se3_cubicles</td>\n",
       "      <td>0</td>\n",
       "      <td>None</td>\n",
       "      <td>(None, 128, 128)</td>\n",
       "      <td>0.000215</td>\n",
       "    </tr>\n",
       "    <tr>\n",
       "      <th>1</th>\n",
       "      <td>1</td>\n",
       "      <td>none</td>\n",
       "      <td>17000</td>\n",
       "      <td>8521</td>\n",
       "      <td>8656</td>\n",
       "      <td>135</td>\n",
       "      <td>128</td>\n",
       "      <td>10</td>\n",
       "      <td>10</td>\n",
       "      <td>se3_cubicles</td>\n",
       "      <td>0</td>\n",
       "      <td>None</td>\n",
       "      <td>(None, 128, 128)</td>\n",
       "      <td>0.000421</td>\n",
       "    </tr>\n",
       "    <tr>\n",
       "      <th>2</th>\n",
       "      <td>2</td>\n",
       "      <td>none</td>\n",
       "      <td>17000</td>\n",
       "      <td>9322</td>\n",
       "      <td>9538</td>\n",
       "      <td>216</td>\n",
       "      <td>128</td>\n",
       "      <td>10</td>\n",
       "      <td>10</td>\n",
       "      <td>se3_cubicles</td>\n",
       "      <td>0</td>\n",
       "      <td>None</td>\n",
       "      <td>(None, 128, 128)</td>\n",
       "      <td>0.000460</td>\n",
       "    </tr>\n",
       "    <tr>\n",
       "      <th>3</th>\n",
       "      <td>3</td>\n",
       "      <td>none</td>\n",
       "      <td>17000</td>\n",
       "      <td>12310</td>\n",
       "      <td>12617</td>\n",
       "      <td>307</td>\n",
       "      <td>128</td>\n",
       "      <td>10</td>\n",
       "      <td>10</td>\n",
       "      <td>se3_cubicles</td>\n",
       "      <td>0</td>\n",
       "      <td>None</td>\n",
       "      <td>(None, 128, 128)</td>\n",
       "      <td>0.000607</td>\n",
       "    </tr>\n",
       "    <tr>\n",
       "      <th>4</th>\n",
       "      <td>4</td>\n",
       "      <td>none</td>\n",
       "      <td>17000</td>\n",
       "      <td>12470</td>\n",
       "      <td>12793</td>\n",
       "      <td>323</td>\n",
       "      <td>128</td>\n",
       "      <td>10</td>\n",
       "      <td>10</td>\n",
       "      <td>se3_cubicles</td>\n",
       "      <td>0</td>\n",
       "      <td>None</td>\n",
       "      <td>(None, 128, 128)</td>\n",
       "      <td>0.000612</td>\n",
       "    </tr>\n",
       "    <tr>\n",
       "      <th>...</th>\n",
       "      <td>...</td>\n",
       "      <td>...</td>\n",
       "      <td>...</td>\n",
       "      <td>...</td>\n",
       "      <td>...</td>\n",
       "      <td>...</td>\n",
       "      <td>...</td>\n",
       "      <td>...</td>\n",
       "      <td>...</td>\n",
       "      <td>...</td>\n",
       "      <td>...</td>\n",
       "      <td>...</td>\n",
       "      <td>...</td>\n",
       "      <td>...</td>\n",
       "    </tr>\n",
       "    <tr>\n",
       "      <th>34811</th>\n",
       "      <td>34811</td>\n",
       "      <td>log</td>\n",
       "      <td>17000</td>\n",
       "      <td>8030</td>\n",
       "      <td>11809</td>\n",
       "      <td>3779</td>\n",
       "      <td>128</td>\n",
       "      <td>20</td>\n",
       "      <td>8</td>\n",
       "      <td>se3_cubicles</td>\n",
       "      <td>0</td>\n",
       "      <td>Log</td>\n",
       "      <td>(Log, 128, 128)</td>\n",
       "      <td>0.000397</td>\n",
       "    </tr>\n",
       "    <tr>\n",
       "      <th>34812</th>\n",
       "      <td>34812</td>\n",
       "      <td>log</td>\n",
       "      <td>17000</td>\n",
       "      <td>8670</td>\n",
       "      <td>12465</td>\n",
       "      <td>3795</td>\n",
       "      <td>128</td>\n",
       "      <td>20</td>\n",
       "      <td>8</td>\n",
       "      <td>se3_cubicles</td>\n",
       "      <td>0</td>\n",
       "      <td>Log</td>\n",
       "      <td>(Log, 128, 128)</td>\n",
       "      <td>0.000426</td>\n",
       "    </tr>\n",
       "    <tr>\n",
       "      <th>34813</th>\n",
       "      <td>34813</td>\n",
       "      <td>log</td>\n",
       "      <td>17000</td>\n",
       "      <td>9643</td>\n",
       "      <td>13457</td>\n",
       "      <td>3814</td>\n",
       "      <td>128</td>\n",
       "      <td>20</td>\n",
       "      <td>8</td>\n",
       "      <td>se3_cubicles</td>\n",
       "      <td>0</td>\n",
       "      <td>Log</td>\n",
       "      <td>(Log, 128, 128)</td>\n",
       "      <td>0.000475</td>\n",
       "    </tr>\n",
       "    <tr>\n",
       "      <th>34814</th>\n",
       "      <td>34814</td>\n",
       "      <td>log</td>\n",
       "      <td>17000</td>\n",
       "      <td>8418</td>\n",
       "      <td>12246</td>\n",
       "      <td>3828</td>\n",
       "      <td>128</td>\n",
       "      <td>20</td>\n",
       "      <td>8</td>\n",
       "      <td>se3_cubicles</td>\n",
       "      <td>0</td>\n",
       "      <td>Log</td>\n",
       "      <td>(Log, 128, 128)</td>\n",
       "      <td>0.000416</td>\n",
       "    </tr>\n",
       "    <tr>\n",
       "      <th>34815</th>\n",
       "      <td>34815</td>\n",
       "      <td>log</td>\n",
       "      <td>17000</td>\n",
       "      <td>8828</td>\n",
       "      <td>12687</td>\n",
       "      <td>3859</td>\n",
       "      <td>128</td>\n",
       "      <td>20</td>\n",
       "      <td>8</td>\n",
       "      <td>se3_cubicles</td>\n",
       "      <td>0</td>\n",
       "      <td>Log</td>\n",
       "      <td>(Log, 128, 128)</td>\n",
       "      <td>0.000436</td>\n",
       "    </tr>\n",
       "  </tbody>\n",
       "</table>\n",
       "<p>34816 rows × 14 columns</p>\n",
       "</div>"
      ],
      "text/plain": [
       "       Unnamed: 0 algorithm  graph_size  lambda_duration  lambda_end_time  \\\n",
       "0               0      none       17000             4336             4427   \n",
       "1               1      none       17000             8521             8656   \n",
       "2               2      none       17000             9322             9538   \n",
       "3               3      none       17000            12310            12617   \n",
       "4               4      none       17000            12470            12793   \n",
       "...           ...       ...         ...              ...              ...   \n",
       "34811       34811       log       17000             8030            11809   \n",
       "34812       34812       log       17000             8670            12465   \n",
       "34813       34813       log       17000             9643            13457   \n",
       "34814       34814       log       17000             8418            12246   \n",
       "34815       34815       log       17000             8828            12687   \n",
       "\n",
       "       lambda_start_time  num_lambdas  num_samples  random_seed      scenario  \\\n",
       "0                     91          128           10           10  se3_cubicles   \n",
       "1                    135          128           10           10  se3_cubicles   \n",
       "2                    216          128           10           10  se3_cubicles   \n",
       "3                    307          128           10           10  se3_cubicles   \n",
       "4                    323          128           10           10  se3_cubicles   \n",
       "...                  ...          ...          ...          ...           ...   \n",
       "34811               3779          128           20            8  se3_cubicles   \n",
       "34812               3795          128           20            8  se3_cubicles   \n",
       "34813               3814          128           20            8  se3_cubicles   \n",
       "34814               3828          128           20            8  se3_cubicles   \n",
       "34815               3859          128           20            8  se3_cubicles   \n",
       "\n",
       "       trial_num root_name        identifier      cost  \n",
       "0              0      None  (None, 128, 128)  0.000215  \n",
       "1              0      None  (None, 128, 128)  0.000421  \n",
       "2              0      None  (None, 128, 128)  0.000460  \n",
       "3              0      None  (None, 128, 128)  0.000607  \n",
       "4              0      None  (None, 128, 128)  0.000612  \n",
       "...          ...       ...               ...       ...  \n",
       "34811          0       Log   (Log, 128, 128)  0.000397  \n",
       "34812          0       Log   (Log, 128, 128)  0.000426  \n",
       "34813          0       Log   (Log, 128, 128)  0.000475  \n",
       "34814          0       Log   (Log, 128, 128)  0.000416  \n",
       "34815          0       Log   (Log, 128, 128)  0.000436  \n",
       "\n",
       "[34816 rows x 14 columns]"
      ]
     },
     "execution_count": 8,
     "metadata": {},
     "output_type": "execute_result"
    }
   ],
   "source": [
    "df[\"identifier\"] = list(zip(df.root_name, df.num_lambdas, df.num_samples, ))\n",
    "cost_per_100_ms = 0.0000048958\n",
    "df[\"cost\"] = np.ceil(df[\"lambda_duration\"] / 100) * cost_per_100_ms\n",
    "df.loc[df[\"root_name\"] == \"None\", \"num_samples\"] = 10 # set common packet size for no work sharing\n",
    "df.loc[df[\"root_name\"] == \"Log\", \"num_samples\"] = 20 # set common packet size for no work sharing\n",
    "\n",
    "df"
   ]
  },
  {
   "cell_type": "code",
   "execution_count": 9,
   "metadata": {},
   "outputs": [
    {
     "data": {
      "text/html": [
       "<div>\n",
       "<style scoped>\n",
       "    .dataframe tbody tr th:only-of-type {\n",
       "        vertical-align: middle;\n",
       "    }\n",
       "\n",
       "    .dataframe tbody tr th {\n",
       "        vertical-align: top;\n",
       "    }\n",
       "\n",
       "    .dataframe thead th {\n",
       "        text-align: right;\n",
       "    }\n",
       "</style>\n",
       "<table border=\"1\" class=\"dataframe\">\n",
       "  <thead>\n",
       "    <tr style=\"text-align: right;\">\n",
       "      <th></th>\n",
       "      <th>Unnamed: 0</th>\n",
       "      <th>algorithm</th>\n",
       "      <th>graph_size</th>\n",
       "      <th>lambda_duration</th>\n",
       "      <th>lambda_end_time</th>\n",
       "      <th>lambda_start_time</th>\n",
       "      <th>num_lambdas</th>\n",
       "      <th>num_samples</th>\n",
       "      <th>random_seed</th>\n",
       "      <th>scenario</th>\n",
       "      <th>trial_num</th>\n",
       "      <th>root_name</th>\n",
       "      <th>cost</th>\n",
       "    </tr>\n",
       "    <tr>\n",
       "      <th>identifier</th>\n",
       "      <th></th>\n",
       "      <th></th>\n",
       "      <th></th>\n",
       "      <th></th>\n",
       "      <th></th>\n",
       "      <th></th>\n",
       "      <th></th>\n",
       "      <th></th>\n",
       "      <th></th>\n",
       "      <th></th>\n",
       "      <th></th>\n",
       "      <th></th>\n",
       "      <th></th>\n",
       "    </tr>\n",
       "  </thead>\n",
       "  <tbody>\n",
       "    <tr>\n",
       "      <th>(Async, 128, 1)</th>\n",
       "      <td>2048</td>\n",
       "      <td>2048</td>\n",
       "      <td>2048</td>\n",
       "      <td>2048</td>\n",
       "      <td>2048</td>\n",
       "      <td>2048</td>\n",
       "      <td>2048</td>\n",
       "      <td>2048</td>\n",
       "      <td>2048</td>\n",
       "      <td>2048</td>\n",
       "      <td>2048</td>\n",
       "      <td>2048</td>\n",
       "      <td>2048</td>\n",
       "    </tr>\n",
       "    <tr>\n",
       "      <th>(Async, 128, 4)</th>\n",
       "      <td>2048</td>\n",
       "      <td>2048</td>\n",
       "      <td>2048</td>\n",
       "      <td>2048</td>\n",
       "      <td>2048</td>\n",
       "      <td>2048</td>\n",
       "      <td>2048</td>\n",
       "      <td>2048</td>\n",
       "      <td>2048</td>\n",
       "      <td>2048</td>\n",
       "      <td>2048</td>\n",
       "      <td>2048</td>\n",
       "      <td>2048</td>\n",
       "    </tr>\n",
       "    <tr>\n",
       "      <th>(Async, 128, 16)</th>\n",
       "      <td>2048</td>\n",
       "      <td>2048</td>\n",
       "      <td>2048</td>\n",
       "      <td>2048</td>\n",
       "      <td>2048</td>\n",
       "      <td>2048</td>\n",
       "      <td>2048</td>\n",
       "      <td>2048</td>\n",
       "      <td>2048</td>\n",
       "      <td>2048</td>\n",
       "      <td>2048</td>\n",
       "      <td>2048</td>\n",
       "      <td>2048</td>\n",
       "    </tr>\n",
       "    <tr>\n",
       "      <th>(Async, 128, 32)</th>\n",
       "      <td>2048</td>\n",
       "      <td>2048</td>\n",
       "      <td>2048</td>\n",
       "      <td>2048</td>\n",
       "      <td>2048</td>\n",
       "      <td>2048</td>\n",
       "      <td>2048</td>\n",
       "      <td>2048</td>\n",
       "      <td>2048</td>\n",
       "      <td>2048</td>\n",
       "      <td>2048</td>\n",
       "      <td>2048</td>\n",
       "      <td>2048</td>\n",
       "    </tr>\n",
       "    <tr>\n",
       "      <th>(Async, 128, 64)</th>\n",
       "      <td>2048</td>\n",
       "      <td>2048</td>\n",
       "      <td>2048</td>\n",
       "      <td>2048</td>\n",
       "      <td>2048</td>\n",
       "      <td>2048</td>\n",
       "      <td>2048</td>\n",
       "      <td>2048</td>\n",
       "      <td>2048</td>\n",
       "      <td>2048</td>\n",
       "      <td>2048</td>\n",
       "      <td>2048</td>\n",
       "      <td>2048</td>\n",
       "    </tr>\n",
       "    <tr>\n",
       "      <th>(Async-Log, 128, 1)</th>\n",
       "      <td>2048</td>\n",
       "      <td>2048</td>\n",
       "      <td>2048</td>\n",
       "      <td>2048</td>\n",
       "      <td>2048</td>\n",
       "      <td>2048</td>\n",
       "      <td>2048</td>\n",
       "      <td>2048</td>\n",
       "      <td>2048</td>\n",
       "      <td>2048</td>\n",
       "      <td>2048</td>\n",
       "      <td>2048</td>\n",
       "      <td>2048</td>\n",
       "    </tr>\n",
       "    <tr>\n",
       "      <th>(Async-Log, 128, 4)</th>\n",
       "      <td>2048</td>\n",
       "      <td>2048</td>\n",
       "      <td>2048</td>\n",
       "      <td>2048</td>\n",
       "      <td>2048</td>\n",
       "      <td>2048</td>\n",
       "      <td>2048</td>\n",
       "      <td>2048</td>\n",
       "      <td>2048</td>\n",
       "      <td>2048</td>\n",
       "      <td>2048</td>\n",
       "      <td>2048</td>\n",
       "      <td>2048</td>\n",
       "    </tr>\n",
       "    <tr>\n",
       "      <th>(Async-Log, 128, 16)</th>\n",
       "      <td>2048</td>\n",
       "      <td>2048</td>\n",
       "      <td>2048</td>\n",
       "      <td>2048</td>\n",
       "      <td>2048</td>\n",
       "      <td>2048</td>\n",
       "      <td>2048</td>\n",
       "      <td>2048</td>\n",
       "      <td>2048</td>\n",
       "      <td>2048</td>\n",
       "      <td>2048</td>\n",
       "      <td>2048</td>\n",
       "      <td>2048</td>\n",
       "    </tr>\n",
       "    <tr>\n",
       "      <th>(Async-Log, 128, 32)</th>\n",
       "      <td>2048</td>\n",
       "      <td>2048</td>\n",
       "      <td>2048</td>\n",
       "      <td>2048</td>\n",
       "      <td>2048</td>\n",
       "      <td>2048</td>\n",
       "      <td>2048</td>\n",
       "      <td>2048</td>\n",
       "      <td>2048</td>\n",
       "      <td>2048</td>\n",
       "      <td>2048</td>\n",
       "      <td>2048</td>\n",
       "      <td>2048</td>\n",
       "    </tr>\n",
       "    <tr>\n",
       "      <th>(Async-Log, 128, 64)</th>\n",
       "      <td>2048</td>\n",
       "      <td>2048</td>\n",
       "      <td>2048</td>\n",
       "      <td>2048</td>\n",
       "      <td>2048</td>\n",
       "      <td>2048</td>\n",
       "      <td>2048</td>\n",
       "      <td>2048</td>\n",
       "      <td>2048</td>\n",
       "      <td>2048</td>\n",
       "      <td>2048</td>\n",
       "      <td>2048</td>\n",
       "      <td>2048</td>\n",
       "    </tr>\n",
       "    <tr>\n",
       "      <th>(Log, 128, 128)</th>\n",
       "      <td>2048</td>\n",
       "      <td>2048</td>\n",
       "      <td>2048</td>\n",
       "      <td>2048</td>\n",
       "      <td>2048</td>\n",
       "      <td>2048</td>\n",
       "      <td>2048</td>\n",
       "      <td>2048</td>\n",
       "      <td>2048</td>\n",
       "      <td>2048</td>\n",
       "      <td>2048</td>\n",
       "      <td>2048</td>\n",
       "      <td>2048</td>\n",
       "    </tr>\n",
       "    <tr>\n",
       "      <th>(None, 128, 128)</th>\n",
       "      <td>2048</td>\n",
       "      <td>2048</td>\n",
       "      <td>2048</td>\n",
       "      <td>2048</td>\n",
       "      <td>2048</td>\n",
       "      <td>2048</td>\n",
       "      <td>2048</td>\n",
       "      <td>2048</td>\n",
       "      <td>2048</td>\n",
       "      <td>2048</td>\n",
       "      <td>2048</td>\n",
       "      <td>2048</td>\n",
       "      <td>2048</td>\n",
       "    </tr>\n",
       "    <tr>\n",
       "      <th>(Sync, 128, 1)</th>\n",
       "      <td>2048</td>\n",
       "      <td>2048</td>\n",
       "      <td>2048</td>\n",
       "      <td>2048</td>\n",
       "      <td>2048</td>\n",
       "      <td>2048</td>\n",
       "      <td>2048</td>\n",
       "      <td>2048</td>\n",
       "      <td>2048</td>\n",
       "      <td>2048</td>\n",
       "      <td>2048</td>\n",
       "      <td>2048</td>\n",
       "      <td>2048</td>\n",
       "    </tr>\n",
       "    <tr>\n",
       "      <th>(Sync, 128, 4)</th>\n",
       "      <td>2048</td>\n",
       "      <td>2048</td>\n",
       "      <td>2048</td>\n",
       "      <td>2048</td>\n",
       "      <td>2048</td>\n",
       "      <td>2048</td>\n",
       "      <td>2048</td>\n",
       "      <td>2048</td>\n",
       "      <td>2048</td>\n",
       "      <td>2048</td>\n",
       "      <td>2048</td>\n",
       "      <td>2048</td>\n",
       "      <td>2048</td>\n",
       "    </tr>\n",
       "    <tr>\n",
       "      <th>(Sync, 128, 16)</th>\n",
       "      <td>2048</td>\n",
       "      <td>2048</td>\n",
       "      <td>2048</td>\n",
       "      <td>2048</td>\n",
       "      <td>2048</td>\n",
       "      <td>2048</td>\n",
       "      <td>2048</td>\n",
       "      <td>2048</td>\n",
       "      <td>2048</td>\n",
       "      <td>2048</td>\n",
       "      <td>2048</td>\n",
       "      <td>2048</td>\n",
       "      <td>2048</td>\n",
       "    </tr>\n",
       "    <tr>\n",
       "      <th>(Sync, 128, 32)</th>\n",
       "      <td>2048</td>\n",
       "      <td>2048</td>\n",
       "      <td>2048</td>\n",
       "      <td>2048</td>\n",
       "      <td>2048</td>\n",
       "      <td>2048</td>\n",
       "      <td>2048</td>\n",
       "      <td>2048</td>\n",
       "      <td>2048</td>\n",
       "      <td>2048</td>\n",
       "      <td>2048</td>\n",
       "      <td>2048</td>\n",
       "      <td>2048</td>\n",
       "    </tr>\n",
       "    <tr>\n",
       "      <th>(Sync, 128, 64)</th>\n",
       "      <td>2048</td>\n",
       "      <td>2048</td>\n",
       "      <td>2048</td>\n",
       "      <td>2048</td>\n",
       "      <td>2048</td>\n",
       "      <td>2048</td>\n",
       "      <td>2048</td>\n",
       "      <td>2048</td>\n",
       "      <td>2048</td>\n",
       "      <td>2048</td>\n",
       "      <td>2048</td>\n",
       "      <td>2048</td>\n",
       "      <td>2048</td>\n",
       "    </tr>\n",
       "  </tbody>\n",
       "</table>\n",
       "</div>"
      ],
      "text/plain": [
       "                      Unnamed: 0  algorithm  graph_size  lambda_duration  \\\n",
       "identifier                                                                 \n",
       "(Async, 128, 1)             2048       2048        2048             2048   \n",
       "(Async, 128, 4)             2048       2048        2048             2048   \n",
       "(Async, 128, 16)            2048       2048        2048             2048   \n",
       "(Async, 128, 32)            2048       2048        2048             2048   \n",
       "(Async, 128, 64)            2048       2048        2048             2048   \n",
       "(Async-Log, 128, 1)         2048       2048        2048             2048   \n",
       "(Async-Log, 128, 4)         2048       2048        2048             2048   \n",
       "(Async-Log, 128, 16)        2048       2048        2048             2048   \n",
       "(Async-Log, 128, 32)        2048       2048        2048             2048   \n",
       "(Async-Log, 128, 64)        2048       2048        2048             2048   \n",
       "(Log, 128, 128)             2048       2048        2048             2048   \n",
       "(None, 128, 128)            2048       2048        2048             2048   \n",
       "(Sync, 128, 1)              2048       2048        2048             2048   \n",
       "(Sync, 128, 4)              2048       2048        2048             2048   \n",
       "(Sync, 128, 16)             2048       2048        2048             2048   \n",
       "(Sync, 128, 32)             2048       2048        2048             2048   \n",
       "(Sync, 128, 64)             2048       2048        2048             2048   \n",
       "\n",
       "                      lambda_end_time  lambda_start_time  num_lambdas  \\\n",
       "identifier                                                              \n",
       "(Async, 128, 1)                  2048               2048         2048   \n",
       "(Async, 128, 4)                  2048               2048         2048   \n",
       "(Async, 128, 16)                 2048               2048         2048   \n",
       "(Async, 128, 32)                 2048               2048         2048   \n",
       "(Async, 128, 64)                 2048               2048         2048   \n",
       "(Async-Log, 128, 1)              2048               2048         2048   \n",
       "(Async-Log, 128, 4)              2048               2048         2048   \n",
       "(Async-Log, 128, 16)             2048               2048         2048   \n",
       "(Async-Log, 128, 32)             2048               2048         2048   \n",
       "(Async-Log, 128, 64)             2048               2048         2048   \n",
       "(Log, 128, 128)                  2048               2048         2048   \n",
       "(None, 128, 128)                 2048               2048         2048   \n",
       "(Sync, 128, 1)                   2048               2048         2048   \n",
       "(Sync, 128, 4)                   2048               2048         2048   \n",
       "(Sync, 128, 16)                  2048               2048         2048   \n",
       "(Sync, 128, 32)                  2048               2048         2048   \n",
       "(Sync, 128, 64)                  2048               2048         2048   \n",
       "\n",
       "                      num_samples  random_seed  scenario  trial_num  \\\n",
       "identifier                                                            \n",
       "(Async, 128, 1)              2048         2048      2048       2048   \n",
       "(Async, 128, 4)              2048         2048      2048       2048   \n",
       "(Async, 128, 16)             2048         2048      2048       2048   \n",
       "(Async, 128, 32)             2048         2048      2048       2048   \n",
       "(Async, 128, 64)             2048         2048      2048       2048   \n",
       "(Async-Log, 128, 1)          2048         2048      2048       2048   \n",
       "(Async-Log, 128, 4)          2048         2048      2048       2048   \n",
       "(Async-Log, 128, 16)         2048         2048      2048       2048   \n",
       "(Async-Log, 128, 32)         2048         2048      2048       2048   \n",
       "(Async-Log, 128, 64)         2048         2048      2048       2048   \n",
       "(Log, 128, 128)              2048         2048      2048       2048   \n",
       "(None, 128, 128)             2048         2048      2048       2048   \n",
       "(Sync, 128, 1)               2048         2048      2048       2048   \n",
       "(Sync, 128, 4)               2048         2048      2048       2048   \n",
       "(Sync, 128, 16)              2048         2048      2048       2048   \n",
       "(Sync, 128, 32)              2048         2048      2048       2048   \n",
       "(Sync, 128, 64)              2048         2048      2048       2048   \n",
       "\n",
       "                      root_name  cost  \n",
       "identifier                             \n",
       "(Async, 128, 1)            2048  2048  \n",
       "(Async, 128, 4)            2048  2048  \n",
       "(Async, 128, 16)           2048  2048  \n",
       "(Async, 128, 32)           2048  2048  \n",
       "(Async, 128, 64)           2048  2048  \n",
       "(Async-Log, 128, 1)        2048  2048  \n",
       "(Async-Log, 128, 4)        2048  2048  \n",
       "(Async-Log, 128, 16)       2048  2048  \n",
       "(Async-Log, 128, 32)       2048  2048  \n",
       "(Async-Log, 128, 64)       2048  2048  \n",
       "(Log, 128, 128)            2048  2048  \n",
       "(None, 128, 128)           2048  2048  \n",
       "(Sync, 128, 1)             2048  2048  \n",
       "(Sync, 128, 4)             2048  2048  \n",
       "(Sync, 128, 16)            2048  2048  \n",
       "(Sync, 128, 32)            2048  2048  \n",
       "(Sync, 128, 64)            2048  2048  "
      ]
     },
     "execution_count": 9,
     "metadata": {},
     "output_type": "execute_result"
    }
   ],
   "source": [
    "df.groupby(\"identifier\").count()"
   ]
  },
  {
   "cell_type": "code",
   "execution_count": 10,
   "metadata": {},
   "outputs": [
    {
     "data": {
      "text/plain": [
       "array([10,  6, 15,  9,  7,  2,  0,  5, 14, 13, 12,  1,  3,  4, 11,  8])"
      ]
     },
     "execution_count": 10,
     "metadata": {},
     "output_type": "execute_result"
    }
   ],
   "source": [
    "df.random_seed.unique()"
   ]
  },
  {
   "cell_type": "code",
   "execution_count": 11,
   "metadata": {},
   "outputs": [
    {
     "data": {
      "text/plain": [
       "array(['None', 'Sync', 'Async', 'Async-Log', 'Log'], dtype=object)"
      ]
     },
     "execution_count": 11,
     "metadata": {},
     "output_type": "execute_result"
    }
   ],
   "source": [
    "df.root_name.unique()"
   ]
  },
  {
   "cell_type": "markdown",
   "metadata": {},
   "source": [
    "### Paper Plots (Less General)"
   ]
  },
  {
   "cell_type": "code",
   "execution_count": 12,
   "metadata": {},
   "outputs": [
    {
     "data": {
      "text/plain": [
       "'../build/aggregate_figures/se3_cubicles/128/paper_plots'"
      ]
     },
     "execution_count": 12,
     "metadata": {},
     "output_type": "execute_result"
    }
   ],
   "source": [
    "SAVE_ROOT = \"{}/paper_plots\".format(SAVE_ROOT)\n",
    "if not os.path.exists(SAVE_ROOT):\n",
    "    os.makedirs(SAVE_ROOT)\n",
    "\n",
    "SAVE_ROOT"
   ]
  },
  {
   "cell_type": "code",
   "execution_count": 13,
   "metadata": {},
   "outputs": [
    {
     "name": "stderr",
     "output_type": "stream",
     "text": [
      "/home/raghav/anaconda3/lib/python3.7/site-packages/ipykernel_launcher.py:20: MatplotlibDeprecationWarning: \n",
      "The text.latex.unicode rcparam was deprecated in Matplotlib 3.0 and will be removed in 3.2.\n"
     ]
    }
   ],
   "source": [
    "figsize = (3.45, 2.00) # ieee width\n",
    "# figsize = (7, 3.50) # ieee width\n",
    "\n",
    "\n",
    "# column name remap for better plotting\n",
    "df = df.rename(columns={\n",
    "    'algorithm': 'Algorithm',\n",
    "    'graph_size': 'Graph Size',\n",
    "    'lambda_duration': 'Lambda Duration (ms)',\n",
    "    'lambda_end_time': 'Lambda End Time (ms)',\n",
    "    'lambda_start_time': 'Lambda Start Time (ms)',\n",
    "    'num_lambdas': 'Num Lambdas',\n",
    "    'num_samples': 'Packet Size',\n",
    "    'scenario': 'Scenario',\n",
    "    'root_name': 'Work Sharing Method',\n",
    "    'cost': 'Cost (\\$)'\n",
    "})\n",
    "ext = \"pdf\"\n",
    "matplotlib.rcParams['text.usetex'] = True\n",
    "matplotlib.rcParams['text.latex.unicode']=True\n",
    "matplotlib.rcParams['ps.useafm'] = True\n",
    "matplotlib.rcParams['pdf.use14corefonts'] = True"
   ]
  },
  {
   "cell_type": "code",
   "execution_count": 24,
   "metadata": {},
   "outputs": [
    {
     "data": {
      "text/plain": [
       "Index(['Unnamed: 0', 'Algorithm', 'Graph Size', 'Lambda Duration (ms)',\n",
       "       'Lambda End Time (ms)', 'Lambda Start Time (ms)', 'Num Lambdas',\n",
       "       'Packet Size', 'random_seed', 'Scenario', 'trial_num',\n",
       "       'Work Sharing Method', 'identifier', 'Cost (\\$)'],\n",
       "      dtype='object')"
      ]
     },
     "execution_count": 24,
     "metadata": {},
     "output_type": "execute_result"
    }
   ],
   "source": [
    "df.columns\n",
    "# df = df[~(df[\"Work Sharing Method\"] == \"No Work Sharing\")]"
   ]
  },
  {
   "cell_type": "code",
   "execution_count": 25,
   "metadata": {},
   "outputs": [
    {
     "data": {
      "text/plain": [
       "2048"
      ]
     },
     "execution_count": 25,
     "metadata": {},
     "output_type": "execute_result"
    }
   ],
   "source": [
    "len(df[(df[\"Algorithm\"] == \"async\") & (df[\"Packet Size\"] == 1)])"
   ]
  },
  {
   "cell_type": "code",
   "execution_count": 16,
   "metadata": {},
   "outputs": [
    {
     "data": {
      "text/plain": [
       "(1919, 1920)"
      ]
     },
     "execution_count": 16,
     "metadata": {},
     "output_type": "execute_result"
    }
   ],
   "source": [
    "len(df[df[\"identifier\"] == (\"Async\", 128, 1)]), len(df[df[\"identifier\"] == (\"Sync\", 128, 1)])"
   ]
  },
  {
   "cell_type": "markdown",
   "metadata": {},
   "source": [
    "### Parallelism Plots and Metrics By Packet Size"
   ]
  },
  {
   "cell_type": "code",
   "execution_count": 18,
   "metadata": {
    "scrolled": true
   },
   "outputs": [
    {
     "name": "stderr",
     "output_type": "stream",
     "text": [
      "/home/raghav/anaconda3/lib/python3.7/site-packages/ipykernel_launcher.py:17: SettingWithCopyWarning: \n",
      "A value is trying to be set on a copy of a slice from a DataFrame.\n",
      "Try using .loc[row_indexer,col_indexer] = value instead\n",
      "\n",
      "See the caveats in the documentation: https://pandas.pydata.org/pandas-docs/stable/user_guide/indexing.html#returning-a-view-versus-a-copy\n",
      "/home/raghav/anaconda3/lib/python3.7/site-packages/ipykernel_launcher.py:17: SettingWithCopyWarning: \n",
      "A value is trying to be set on a copy of a slice from a DataFrame.\n",
      "Try using .loc[row_indexer,col_indexer] = value instead\n",
      "\n",
      "See the caveats in the documentation: https://pandas.pydata.org/pandas-docs/stable/user_guide/indexing.html#returning-a-view-versus-a-copy\n",
      "/home/raghav/anaconda3/lib/python3.7/site-packages/ipykernel_launcher.py:17: SettingWithCopyWarning: \n",
      "A value is trying to be set on a copy of a slice from a DataFrame.\n",
      "Try using .loc[row_indexer,col_indexer] = value instead\n",
      "\n",
      "See the caveats in the documentation: https://pandas.pydata.org/pandas-docs/stable/user_guide/indexing.html#returning-a-view-versus-a-copy\n",
      "/home/raghav/anaconda3/lib/python3.7/site-packages/ipykernel_launcher.py:17: SettingWithCopyWarning: \n",
      "A value is trying to be set on a copy of a slice from a DataFrame.\n",
      "Try using .loc[row_indexer,col_indexer] = value instead\n",
      "\n",
      "See the caveats in the documentation: https://pandas.pydata.org/pandas-docs/stable/user_guide/indexing.html#returning-a-view-versus-a-copy\n",
      "/home/raghav/anaconda3/lib/python3.7/site-packages/ipykernel_launcher.py:17: SettingWithCopyWarning: \n",
      "A value is trying to be set on a copy of a slice from a DataFrame.\n",
      "Try using .loc[row_indexer,col_indexer] = value instead\n",
      "\n",
      "See the caveats in the documentation: https://pandas.pydata.org/pandas-docs/stable/user_guide/indexing.html#returning-a-view-versus-a-copy\n",
      "/home/raghav/anaconda3/lib/python3.7/site-packages/pandas/core/ops/array_ops.py:253: FutureWarning: elementwise comparison failed; returning scalar instead, but in the future will perform elementwise comparison\n",
      "  res_values = method(rvalues)\n"
     ]
    },
    {
     "name": "stdout",
     "output_type": "stream",
     "text": [
      "   Packet Size  Num Lambdas  Lambda End Time (ms)  parallel_efficiency\n",
      "0            1          128                 14292                  1.0\n",
      "   Packet Size  Num Lambdas  Lambda End Time (ms)  parallel_efficiency\n",
      "1            4          128                 13898                  1.0\n",
      "   Packet Size  Num Lambdas  Lambda End Time (ms)  parallel_efficiency\n",
      "2           16          128                 13184                  1.0\n",
      "   Packet Size  Num Lambdas  Lambda End Time (ms)  parallel_efficiency\n",
      "3           32          128                 13747                  1.0\n",
      "   Packet Size  Num Lambdas  Lambda End Time (ms)  parallel_efficiency\n",
      "4           64          128                 14382                  1.0\n"
     ]
    },
    {
     "data": {
      "image/png": "[encoded data removed]",
      "text/plain": [
       "<Figure size 345x200 with 1 Axes>"
      ]
     },
     "metadata": {
      "needs_background": "light"
     },
     "output_type": "display_data"
    },
    {
     "name": "stderr",
     "output_type": "stream",
     "text": [
      "/home/raghav/anaconda3/lib/python3.7/site-packages/ipykernel_launcher.py:17: SettingWithCopyWarning: \n",
      "A value is trying to be set on a copy of a slice from a DataFrame.\n",
      "Try using .loc[row_indexer,col_indexer] = value instead\n",
      "\n",
      "See the caveats in the documentation: https://pandas.pydata.org/pandas-docs/stable/user_guide/indexing.html#returning-a-view-versus-a-copy\n",
      "/home/raghav/anaconda3/lib/python3.7/site-packages/ipykernel_launcher.py:17: SettingWithCopyWarning: \n",
      "A value is trying to be set on a copy of a slice from a DataFrame.\n",
      "Try using .loc[row_indexer,col_indexer] = value instead\n",
      "\n",
      "See the caveats in the documentation: https://pandas.pydata.org/pandas-docs/stable/user_guide/indexing.html#returning-a-view-versus-a-copy\n",
      "/home/raghav/anaconda3/lib/python3.7/site-packages/ipykernel_launcher.py:17: SettingWithCopyWarning: \n",
      "A value is trying to be set on a copy of a slice from a DataFrame.\n",
      "Try using .loc[row_indexer,col_indexer] = value instead\n",
      "\n",
      "See the caveats in the documentation: https://pandas.pydata.org/pandas-docs/stable/user_guide/indexing.html#returning-a-view-versus-a-copy\n",
      "/home/raghav/anaconda3/lib/python3.7/site-packages/ipykernel_launcher.py:17: SettingWithCopyWarning: \n",
      "A value is trying to be set on a copy of a slice from a DataFrame.\n",
      "Try using .loc[row_indexer,col_indexer] = value instead\n",
      "\n",
      "See the caveats in the documentation: https://pandas.pydata.org/pandas-docs/stable/user_guide/indexing.html#returning-a-view-versus-a-copy\n",
      "/home/raghav/anaconda3/lib/python3.7/site-packages/ipykernel_launcher.py:17: SettingWithCopyWarning: \n",
      "A value is trying to be set on a copy of a slice from a DataFrame.\n",
      "Try using .loc[row_indexer,col_indexer] = value instead\n",
      "\n",
      "See the caveats in the documentation: https://pandas.pydata.org/pandas-docs/stable/user_guide/indexing.html#returning-a-view-versus-a-copy\n",
      "/home/raghav/anaconda3/lib/python3.7/site-packages/pandas/core/ops/array_ops.py:253: FutureWarning: elementwise comparison failed; returning scalar instead, but in the future will perform elementwise comparison\n",
      "  res_values = method(rvalues)\n"
     ]
    },
    {
     "name": "stdout",
     "output_type": "stream",
     "text": [
      "   Packet Size  Num Lambdas  Lambda End Time (ms)  parallel_efficiency\n",
      "0            1          128                 14236                  1.0\n",
      "   Packet Size  Num Lambdas  Lambda End Time (ms)  parallel_efficiency\n",
      "1            4          128                 13707                  1.0\n",
      "   Packet Size  Num Lambdas  Lambda End Time (ms)  parallel_efficiency\n",
      "2           16          128                 13215                  1.0\n",
      "   Packet Size  Num Lambdas  Lambda End Time (ms)  parallel_efficiency\n",
      "3           32          128                 13425                  1.0\n",
      "   Packet Size  Num Lambdas  Lambda End Time (ms)  parallel_efficiency\n",
      "4           64          128                 12990                  1.0\n"
     ]
    },
    {
     "data": {
      "image/png": "[encoded data removed]",
      "text/plain": [
       "<Figure size 345x200 with 1 Axes>"
      ]
     },
     "metadata": {
      "needs_background": "light"
     },
     "output_type": "display_data"
    },
    {
     "name": "stderr",
     "output_type": "stream",
     "text": [
      "/home/raghav/anaconda3/lib/python3.7/site-packages/ipykernel_launcher.py:17: SettingWithCopyWarning: \n",
      "A value is trying to be set on a copy of a slice from a DataFrame.\n",
      "Try using .loc[row_indexer,col_indexer] = value instead\n",
      "\n",
      "See the caveats in the documentation: https://pandas.pydata.org/pandas-docs/stable/user_guide/indexing.html#returning-a-view-versus-a-copy\n",
      "/home/raghav/anaconda3/lib/python3.7/site-packages/pandas/core/ops/array_ops.py:253: FutureWarning: elementwise comparison failed; returning scalar instead, but in the future will perform elementwise comparison\n",
      "  res_values = method(rvalues)\n"
     ]
    },
    {
     "name": "stdout",
     "output_type": "stream",
     "text": [
      "   Packet Size  Num Lambdas  Lambda End Time (ms)  parallel_efficiency\n",
      "0           20          128                 13074                  1.0\n"
     ]
    },
    {
     "data": {
      "image/png": "[encoded data removed]",
      "text/plain": [
       "<Figure size 345x200 with 1 Axes>"
      ]
     },
     "metadata": {
      "needs_background": "light"
     },
     "output_type": "display_data"
    },
    {
     "name": "stderr",
     "output_type": "stream",
     "text": [
      "/home/raghav/anaconda3/lib/python3.7/site-packages/ipykernel_launcher.py:17: SettingWithCopyWarning: \n",
      "A value is trying to be set on a copy of a slice from a DataFrame.\n",
      "Try using .loc[row_indexer,col_indexer] = value instead\n",
      "\n",
      "See the caveats in the documentation: https://pandas.pydata.org/pandas-docs/stable/user_guide/indexing.html#returning-a-view-versus-a-copy\n",
      "/home/raghav/anaconda3/lib/python3.7/site-packages/pandas/core/ops/array_ops.py:253: FutureWarning: elementwise comparison failed; returning scalar instead, but in the future will perform elementwise comparison\n",
      "  res_values = method(rvalues)\n"
     ]
    },
    {
     "name": "stdout",
     "output_type": "stream",
     "text": [
      "   Packet Size  Num Lambdas  Lambda End Time (ms)  parallel_efficiency\n",
      "0           10          128                 14889                  1.0\n"
     ]
    },
    {
     "data": {
      "image/png": "[encoded data removed]",
      "text/plain": [
       "<Figure size 345x200 with 1 Axes>"
      ]
     },
     "metadata": {
      "needs_background": "light"
     },
     "output_type": "display_data"
    },
    {
     "name": "stderr",
     "output_type": "stream",
     "text": [
      "/home/raghav/anaconda3/lib/python3.7/site-packages/ipykernel_launcher.py:17: SettingWithCopyWarning: \n",
      "A value is trying to be set on a copy of a slice from a DataFrame.\n",
      "Try using .loc[row_indexer,col_indexer] = value instead\n",
      "\n",
      "See the caveats in the documentation: https://pandas.pydata.org/pandas-docs/stable/user_guide/indexing.html#returning-a-view-versus-a-copy\n",
      "/home/raghav/anaconda3/lib/python3.7/site-packages/ipykernel_launcher.py:17: SettingWithCopyWarning: \n",
      "A value is trying to be set on a copy of a slice from a DataFrame.\n",
      "Try using .loc[row_indexer,col_indexer] = value instead\n",
      "\n",
      "See the caveats in the documentation: https://pandas.pydata.org/pandas-docs/stable/user_guide/indexing.html#returning-a-view-versus-a-copy\n",
      "/home/raghav/anaconda3/lib/python3.7/site-packages/ipykernel_launcher.py:17: SettingWithCopyWarning: \n",
      "A value is trying to be set on a copy of a slice from a DataFrame.\n",
      "Try using .loc[row_indexer,col_indexer] = value instead\n",
      "\n",
      "See the caveats in the documentation: https://pandas.pydata.org/pandas-docs/stable/user_guide/indexing.html#returning-a-view-versus-a-copy\n",
      "/home/raghav/anaconda3/lib/python3.7/site-packages/ipykernel_launcher.py:17: SettingWithCopyWarning: \n",
      "A value is trying to be set on a copy of a slice from a DataFrame.\n",
      "Try using .loc[row_indexer,col_indexer] = value instead\n",
      "\n",
      "See the caveats in the documentation: https://pandas.pydata.org/pandas-docs/stable/user_guide/indexing.html#returning-a-view-versus-a-copy\n",
      "/home/raghav/anaconda3/lib/python3.7/site-packages/ipykernel_launcher.py:17: SettingWithCopyWarning: \n",
      "A value is trying to be set on a copy of a slice from a DataFrame.\n",
      "Try using .loc[row_indexer,col_indexer] = value instead\n",
      "\n",
      "See the caveats in the documentation: https://pandas.pydata.org/pandas-docs/stable/user_guide/indexing.html#returning-a-view-versus-a-copy\n",
      "/home/raghav/anaconda3/lib/python3.7/site-packages/pandas/core/ops/array_ops.py:253: FutureWarning: elementwise comparison failed; returning scalar instead, but in the future will perform elementwise comparison\n",
      "  res_values = method(rvalues)\n"
     ]
    },
    {
     "name": "stdout",
     "output_type": "stream",
     "text": [
      "   Packet Size  Num Lambdas  Lambda End Time (ms)  parallel_efficiency\n",
      "0            1          128                 14846                  1.0\n",
      "   Packet Size  Num Lambdas  Lambda End Time (ms)  parallel_efficiency\n",
      "1            4          128                 14909                  1.0\n",
      "   Packet Size  Num Lambdas  Lambda End Time (ms)  parallel_efficiency\n",
      "2           16          128                 14512                  1.0\n",
      "   Packet Size  Num Lambdas  Lambda End Time (ms)  parallel_efficiency\n",
      "3           32          128                 14764                  1.0\n",
      "   Packet Size  Num Lambdas  Lambda End Time (ms)  parallel_efficiency\n",
      "4           64          128                 14926                  1.0\n"
     ]
    },
    {
     "data": {
      "image/png": "[encoded data removed]",
      "text/plain": [
       "<Figure size 345x200 with 1 Axes>"
      ]
     },
     "metadata": {
      "needs_background": "light"
     },
     "output_type": "display_data"
    }
   ],
   "source": [
    "for (graph_size, method), group in df.groupby([\"Graph Size\", \"Work Sharing Method\",]):\n",
    "    group = group.groupby([\"Packet Size\",  \"trial_num\", \"random_seed\", \"Num Lambdas\"], as_index=False).agg(\n",
    "        {\n",
    "            \"Lambda End Time (ms)\": np.max\n",
    "        }\n",
    "    )\n",
    "    \n",
    "    group = group.groupby([\"Packet Size\", \"Num Lambdas\"], as_index=False).agg(\n",
    "        {\n",
    "            \"Lambda End Time (ms)\": np.median\n",
    "        }\n",
    "    )\n",
    "    # compute metrics\n",
    "    for packet_size, metrics_group in group.groupby([\"Packet Size\"], as_index=False):\n",
    "        baseline_lambdas = min(plot_lambdas)\n",
    "        baseline_row = metrics_group[metrics_group[\"Num Lambdas\"] == baseline_lambdas]\n",
    "        metrics_group[\"parallel_efficiency\"] = (float(baseline_row[\"Lambda End Time (ms)\"]) / metrics_group[\"Lambda End Time (ms)\"]) / (metrics_group[\"Num Lambdas\"] / int(baseline_row[\"Num Lambdas\"]))\n",
    "        print(metrics_group)\n",
    "    # plot\n",
    "    plt.figure(figsize=figsize, dpi=100)\n",
    "    g = sns.boxplot(data=group, x=\"Packet Size\", y=\"Lambda End Time (ms)\", hue=\"Num Lambdas\", \n",
    "                    palette=[u'#1f77b4', u'#ff7f0e', 'red', 'green'], \n",
    "                    hue_order=[\"Async\", \"Sync\", \"None\", \"Log\"],\n",
    "                   )\n",
    "    g.legend_.remove()\n",
    "    plt.title(\"Method: {}\".format(method))\n",
    "    plt.savefig(\"{}/lambda_parallelism_graph_size_{}_method_{}.{ext}\".format(SAVE_ROOT, graph_size, method, ext=ext), bbox_inches=\"tight\")\n",
    "    plt.show()"
   ]
  },
  {
   "cell_type": "code",
   "execution_count": 9,
   "metadata": {
    "scrolled": true
   },
   "outputs": [
    {
     "name": "stderr",
     "output_type": "stream",
     "text": [
      "/home/raghav/anaconda3/lib/python3.7/site-packages/ipykernel_launcher.py:19: SettingWithCopyWarning: \n",
      "A value is trying to be set on a copy of a slice from a DataFrame.\n",
      "Try using .loc[row_indexer,col_indexer] = value instead\n",
      "\n",
      "See the caveats in the documentation: https://pandas.pydata.org/pandas-docs/stable/user_guide/indexing.html#returning-a-view-versus-a-copy\n"
     ]
    },
    {
     "name": "stdout",
     "output_type": "stream",
     "text": [
      "   Num Lambdas Work Sharing Method  Lambda End Time (ms)  parallel_efficiency\n",
      "0          128               Async                 40309                  1.0\n"
     ]
    },
    {
     "data": {
      "image/png": "[encoded data removed]",
      "text/plain": [
       "<Figure size 345x200 with 1 Axes>"
      ]
     },
     "metadata": {
      "needs_background": "light"
     },
     "output_type": "display_data"
    }
   ],
   "source": [
    "for graph_size, group in df.groupby([\"Graph Size\", ]):\n",
    "#     break\n",
    "    group = group[(group[\"Work Sharing Method\"] == \"Async\") & (group[\"Packet Size\"] == 16)]\n",
    "    group = group.groupby([\"trial_num\", \"random_seed\", \"Num Lambdas\", \"Work Sharing Method\"], as_index=False).agg(\n",
    "        {\n",
    "            \"Lambda End Time (ms)\": np.max\n",
    "        }\n",
    "    )\n",
    "    \n",
    "    further_group = group.groupby([\"Num Lambdas\", \"Work Sharing Method\"], as_index=False).agg(\n",
    "        {\n",
    "            \"Lambda End Time (ms)\": np.median\n",
    "        }\n",
    "    )\n",
    "    # compute metrics\n",
    "    for packet_size, metrics_group in further_group.groupby([\"Work Sharing Method\"], as_index=False):\n",
    "        baseline_lambdas = min(plot_lambdas)\n",
    "        baseline_row = metrics_group[metrics_group[\"Num Lambdas\"] == baseline_lambdas]\n",
    "        metrics_group[\"parallel_efficiency\"] = (float(baseline_row[\"Lambda End Time (ms)\"]) / metrics_group[\"Lambda End Time (ms)\"]) / (metrics_group[\"Num Lambdas\"] / int(baseline_row[\"Num Lambdas\"]))\n",
    "        print(metrics_group)\n",
    "    \n",
    "    # plot\n",
    "    group[\"Speedup\"] = float(baseline_row[\"Lambda End Time (ms)\"]) / group[\"Lambda End Time (ms)\"]\n",
    "    plt.figure(figsize=figsize, dpi=100)\n",
    "    g = sns.boxplot(data=group, x=\"Num Lambdas\", y=\"Speedup\")\n",
    "    plt.savefig(\"{}/lambda_parallelism_graph_size_{}.{ext}\".format(SAVE_ROOT, graph_size, ext=ext), bbox_inches=\"tight\")\n",
    "    plt.show()"
   ]
  },
  {
   "cell_type": "markdown",
   "metadata": {},
   "source": [
    "### Plots with baselines separate"
   ]
  },
  {
   "cell_type": "code",
   "execution_count": 14,
   "metadata": {},
   "outputs": [],
   "source": [
    "def restyle_boxplot(artist_dict, color, props):\n",
    "    \"\"\"Take a drawn matplotlib boxplot and make it look nice.\"\"\"\n",
    "    linewidth = mpl.rcParams[\"lines.linewidth\"]\n",
    "    fliersize = 5\n",
    "    gray = (0, 0, 0)\n",
    "    \n",
    "    for box in artist_dict[\"boxes\"]:\n",
    "        box.update(dict(facecolor=color,\n",
    "                        zorder=.9,\n",
    "                        edgecolor=gray,\n",
    "                        linewidth=linewidth))\n",
    "#         box.update(props[\"box\"])\n",
    "    for whisk in artist_dict[\"whiskers\"]:\n",
    "        whisk.update(dict(color=gray,\n",
    "                          linewidth=linewidth,\n",
    "                          linestyle=\"-\"))\n",
    "#         whisk.update(props[\"whisker\"])\n",
    "    for cap in artist_dict[\"caps\"]:\n",
    "        cap.update(dict(color=gray,\n",
    "                        linewidth=linewidth))\n",
    "#         cap.update(props[\"cap\"])\n",
    "    for med in artist_dict[\"medians\"]:\n",
    "        med.update(dict(color=gray,\n",
    "                        linewidth=linewidth))\n",
    "#         med.update(props[\"median\"])\n",
    "    for fly in artist_dict[\"fliers\"]:\n",
    "        fly.update(dict(markerfacecolor=gray,\n",
    "                        marker=\"d\",\n",
    "                        markeredgecolor=gray,\n",
    "                        markersize=fliersize))\n",
    "#         fly.update(props[\"flier\"])\n"
   ]
  },
  {
   "cell_type": "code",
   "execution_count": 15,
   "metadata": {},
   "outputs": [],
   "source": [
    "def plot_by_param(y, group, name, ext=\"png\"):\n",
    "    less_group = group[~((group[\"Work Sharing Method\"] == \"None\") | (group[\"Work Sharing Method\"] == \"Log\") | (group[\"Work Sharing Method\"] == \"Modulo\"))]\n",
    "    fig, ax = plt.subplots(figsize=figsize, dpi=100)\n",
    "    g = sns.boxplot(y=y, x=\"Packet Size\", hue=\"Work Sharing Method\", data=less_group, ax=ax, palette=[u'#1f77b4', u'#ff7f0e', 'yellow'], hue_order=[\"Async\", \"Sync\", \"Async-Log\"])\n",
    "    g.legend_.remove()\n",
    "    bplot = ax.boxplot(group[group[\"Work Sharing Method\"] == \"None\"][y], vert=True, patch_artist=True, positions=[5], widths=0.5, labels=[\"None\"], )\n",
    "    restyle_boxplot(bplot, \"red\", None)\n",
    "    \n",
    "    bplot = ax.boxplot(group[group[\"Work Sharing Method\"] == \"Log\"][y], vert=True, patch_artist=True, positions=[6], widths=0.5, labels=[\"Log\"], )\n",
    "    restyle_boxplot(bplot, \"green\", None)\n",
    "    \n",
    "    bplot = ax.boxplot(group[group[\"Work Sharing Method\"] == \"Modulo\"][y], vert=True, patch_artist=True, positions=[7], widths=0.5, labels=[\"Modulo\"], )\n",
    "    restyle_boxplot(bplot, \"brown\", None)\n",
    "    plt.savefig(\"{}/{}.{ext}\".format(SAVE_ROOT, name, ext=ext), bbox_inches=\"tight\")\n",
    "    \n",
    "    # plot without axis\n",
    "    fig, ax = plt.subplots(figsize=figsize, dpi=100)\n",
    "    g = sns.boxplot(y=y, x=\"Packet Size\", hue=\"Work Sharing Method\", data=less_group, ax=ax, palette=[u'#1f77b4', u'#ff7f0e', 'yellow'], hue_order=[\"Async\", \"Sync\", \"Async-Log\"])\n",
    "    g.legend_.remove()\n",
    "    bplot = ax.boxplot(group[group[\"Work Sharing Method\"] == \"None\"][y], vert=True, patch_artist=True, positions=[5], widths=0.5, labels=[\"None\"], )\n",
    "    restyle_boxplot(bplot, \"red\", None)\n",
    "    \n",
    "    bplot = ax.boxplot(group[group[\"Work Sharing Method\"] == \"Log\"][y], vert=True, patch_artist=True, positions=[6], widths=0.5, labels=[\"Log\"], )\n",
    "    restyle_boxplot(bplot, \"green\", None)\n",
    "    ax.get_yaxis().label.set_visible(False)\n",
    "    ax.get_xaxis().set_visible(False)\n",
    "    plt.savefig(\"{}/NOAXIS_{}.{ext}\".format(SAVE_ROOT, name, ext=ext), bbox_inches=\"tight\")"
   ]
  },
  {
   "cell_type": "code",
   "execution_count": 16,
   "metadata": {
    "scrolled": false
   },
   "outputs": [
    {
     "data": {
      "image/png": "[encoded data removed]",
      "text/plain": [
       "<Figure size 345x200 with 1 Axes>"
      ]
     },
     "metadata": {
      "needs_background": "light"
     },
     "output_type": "display_data"
    },
    {
     "data": {
      "image/png": "[encoded data removed]",
      "text/plain": [
       "<Figure size 345x200 with 1 Axes>"
      ]
     },
     "metadata": {
      "needs_background": "light"
     },
     "output_type": "display_data"
    },
    {
     "data": {
      "image/png": "[encoded data removed]",
      "text/plain": [
       "<Figure size 345x200 with 1 Axes>"
      ]
     },
     "metadata": {
      "needs_background": "light"
     },
     "output_type": "display_data"
    },
    {
     "data": {
      "image/png": "[encoded data removed]",
      "text/plain": [
       "<Figure size 345x200 with 1 Axes>"
      ]
     },
     "metadata": {
      "needs_background": "light"
     },
     "output_type": "display_data"
    },
    {
     "data": {
      "image/png": "[encoded data removed]",
      "text/plain": [
       "<Figure size 345x200 with 1 Axes>"
      ]
     },
     "metadata": {
      "needs_background": "light"
     },
     "output_type": "display_data"
    },
    {
     "data": {
      "image/png": "[encoded data removed]",
      "text/plain": [
       "<Figure size 345x200 with 1 Axes>"
      ]
     },
     "metadata": {
      "needs_background": "light"
     },
     "output_type": "display_data"
    }
   ],
   "source": [
    "for (graph_size, num_lambdas), group in df.groupby([\"Graph Size\", \"Num Lambdas\"]):\n",
    "    group = group.reset_index()\n",
    "    plot_by_param(\"Lambda Start Time (ms)\", group, \"lambda_start_time_gs{}_n{}\".format(graph_size, num_lambdas))\n",
    "    plot_by_param(\"Lambda End Time (ms)\", group, \"lambda_end_time_gs{}_n{}\".format(graph_size, num_lambdas))\n",
    "    plot_by_param(\"Lambda Duration (ms)\", group, \"lambda_duration_gs{}_n{}\".format(graph_size, num_lambdas))\n"
   ]
  },
  {
   "cell_type": "code",
   "execution_count": 17,
   "metadata": {
    "scrolled": false
   },
   "outputs": [
    {
     "data": {
      "image/png": "[encoded data removed]",
      "text/plain": [
       "<Figure size 345x200 with 1 Axes>"
      ]
     },
     "metadata": {
      "needs_background": "light"
     },
     "output_type": "display_data"
    },
    {
     "data": {
      "image/png": "[encoded data removed]",
      "text/plain": [
       "<Figure size 345x200 with 1 Axes>"
      ]
     },
     "metadata": {
      "needs_background": "light"
     },
     "output_type": "display_data"
    }
   ],
   "source": [
    "for (graph_size, num_lambdas), group in df.groupby([\"Graph Size\", \"Num Lambdas\"]):\n",
    "    group = group.groupby([\"Packet Size\", \"random_seed\", \"trial_num\", \"Work Sharing Method\"], as_index=False).agg({\"Lambda End Time (ms)\": max})\n",
    "    plot_by_param(\"Lambda End Time (ms)\", group, \"lambda_last_end_time_gs{}_n{}\".format(graph_size, num_lambdas))"
   ]
  },
  {
   "cell_type": "code",
   "execution_count": 18,
   "metadata": {
    "scrolled": false
   },
   "outputs": [
    {
     "data": {
      "image/png": "[encoded data removed]",
      "text/plain": [
       "<Figure size 345x200 with 1 Axes>"
      ]
     },
     "metadata": {
      "needs_background": "light"
     },
     "output_type": "display_data"
    },
    {
     "data": {
      "image/png": "[encoded data removed]",
      "text/plain": [
       "<Figure size 345x200 with 1 Axes>"
      ]
     },
     "metadata": {
      "needs_background": "light"
     },
     "output_type": "display_data"
    }
   ],
   "source": [
    "for (graph_size, num_lambdas), group in df.groupby([\"Graph Size\", \"Num Lambdas\"]):\n",
    "    group = group.groupby([\"Packet Size\", \"trial_num\", \"random_seed\", \"Work Sharing Method\"], as_index=False).agg({\"Cost (\\$)\": sum})\n",
    "    plot_by_param(\"Cost (\\$)\", group, \"cost_gs{}_n{}\".format(graph_size, num_lambdas))"
   ]
  },
  {
   "cell_type": "code",
   "execution_count": 23,
   "metadata": {},
   "outputs": [
    {
     "data": {
      "image/png": "[encoded data removed]",
      "text/plain": [
       "<Figure size 345x200 with 1 Axes>"
      ]
     },
     "metadata": {
      "needs_background": "light"
     },
     "output_type": "display_data"
    }
   ],
   "source": [
    "for (graph_size), group in df.groupby([\"Graph Size\", ]):\n",
    "    group = group.groupby([\"Packet Size\", \"Work Sharing Method\", \"trial_num\", \"random_seed\", \"Num Lambdas\"], as_index=False).agg(\n",
    "        {\n",
    "            \"Cost (\\$)\": sum,\n",
    "            \"Lambda End Time (ms)\": np.max\n",
    "        }\n",
    "    )\n",
    "    \n",
    "    group = group.groupby([\"Packet Size\", \"Work Sharing Method\", \"Num Lambdas\"], as_index=False).agg(\n",
    "        {\n",
    "            \"Cost (\\$)\": np.median,\n",
    "            \"Lambda End Time (ms)\": np.median\n",
    "        }\n",
    "    )\n",
    "#     group = group[~(group[\"Work Sharing Method\"] == \"No Work Sharing\")]\n",
    "    plt.figure(figsize=figsize, dpi=100)\n",
    "    sns.scatterplot(data=group, x=\"Lambda End Time (ms)\", y=\"Cost (\\$)\", \n",
    "                    hue=\"Work Sharing Method\", size=\"Packet Size\", legend=False,\n",
    "                    hue_order=[\"Async\", \"Sync\", \"Async-Log\", \"None\", \"Log\", \"Modulo\"],\n",
    "                   sizes=(30,100), palette=[u'#1f77b4', u'#ff7f0e', 'yellow', 'red', 'green', 'brown'])\n",
    "    plt.ylim([0.07,0.091])\n",
    "    plt.savefig(\"{}/lambda_cost-endtime_gs{}_nl{}.{ext}\".format(SAVE_ROOT, graph_size, num_lambdas, ext=ext), bbox_inches=\"tight\")\n",
    "    plt.show()"
   ]
  },
  {
   "cell_type": "markdown",
   "metadata": {},
   "source": [
    "### Timing experiments plots"
   ]
  },
  {
   "cell_type": "code",
   "execution_count": 66,
   "metadata": {},
   "outputs": [
    {
     "data": {
      "image/png": "[encoded data removed]",
      "text/plain": [
       "<Figure size 345x200 with 1 Axes>"
      ]
     },
     "metadata": {
      "needs_background": "light"
     },
     "output_type": "display_data"
    }
   ],
   "source": [
    "VERTEX_WORK_TIME = re.compile(\".*Vertex num (.*) time to connect: (.*)\")\n",
    "VERTEX_SAMPLE_TIME = re.compile(\".*Vertex (.*) time to sample (.*)\")\n",
    "xlabel = \"Time (milliseconds)\"\n",
    "ylabel = \"Vertex Num\"\n",
    "df = {\n",
    "    xlabel: [],\n",
    "    \"Vertex Num\": [],\n",
    "    \"Type\": [],\n",
    "}\n",
    "for fil in glob.glob(\"./work_estimation_outs/*.txt\"):\n",
    "    with open(fil, 'r') as f:\n",
    "        for lin in f.readlines():\n",
    "#             print(lin)\n",
    "            ret = VERTEX_WORK_TIME.match(lin)\n",
    "            if ret is not None:\n",
    "                vertex_num = int(ret.group(1))\n",
    "                time = int(ret.group(2))\n",
    "                df[xlabel].append(time)\n",
    "                df[\"Vertex Num\"].append(vertex_num)\n",
    "                df[\"Type\"].append(\"Connect time\")\n",
    "\n",
    "for fil in glob.glob(\"./sample_time_outs/*.txt\"):\n",
    "    with open(fil, 'r') as f:\n",
    "        last_time = 0\n",
    "        for lin in f.readlines():\n",
    "#             print(lin)\n",
    "            ret = VERTEX_SAMPLE_TIME.match(lin)\n",
    "            if ret is not None:\n",
    "                vertex_num = int(ret.group(1)) - 1\n",
    "                time = int(ret.group(2)) - last_time\n",
    "                last_time = int(ret.group(2))\n",
    "                df[xlabel].append(time)\n",
    "                df[\"Vertex Num\"].append(vertex_num)\n",
    "                df[\"Type\"].append(\"Sample time\")                \n",
    "\n",
    "df = pd.DataFrame(df)\n",
    "df[xlabel] = df[xlabel] / 1000 # convert microseconds to milliseconds\n",
    "fig, ax = plt.subplots(figsize=figsize, dpi=100)\n",
    "g = sns.lineplot(data=df, x=\"Vertex Num\", y=xlabel, hue=\"Type\", n_boot=50, ax=ax, legend='full')\n",
    "## remove legend title\n",
    "handles, labels = ax.get_legend_handles_labels()\n",
    "ax.legend(handles=handles[1:], labels=labels[1:])\n",
    "\n",
    "plt.savefig(\"{}/sample_time.{ext}\".format(SAVE_ROOT, ext=ext), bbox_inches=\"tight\")"
   ]
  },
  {
   "cell_type": "code",
   "execution_count": 198,
   "metadata": {},
   "outputs": [
    {
     "data": {
      "text/plain": [
       "'../build/aggregate_figures/32-64-128/paper_plots'"
      ]
     },
     "execution_count": 198,
     "metadata": {},
     "output_type": "execute_result"
    }
   ],
   "source": [
    "SAVE_ROOT"
   ]
  },
  {
   "cell_type": "code",
   "execution_count": 67,
   "metadata": {},
   "outputs": [
    {
     "data": {
      "text/plain": [
       "'pdf'"
      ]
     },
     "execution_count": 67,
     "metadata": {},
     "output_type": "execute_result"
    }
   ],
   "source": [
    "ext"
   ]
  },
  {
   "cell_type": "code",
   "execution_count": null,
   "metadata": {},
   "outputs": [],
   "source": []
  }
 ],
 "metadata": {
  "anaconda-cloud": {},
  "kernelspec": {
   "display_name": "Python 3",
   "language": "python",
   "name": "python3"
  },
  "language_info": {
   "codemirror_mode": {
    "name": "ipython",
    "version": 3
   },
   "file_extension": ".py",
   "mimetype": "text/x-python",
   "name": "python",
   "nbconvert_exporter": "python",
   "pygments_lexer": "ipython3",
   "version": "3.7.6"
  },
  "nbpresent": {
   "slides": {
    "19e90386-7b48-48a3-843f-6f9614075ba5": {
     "id": "19e90386-7b48-48a3-843f-6f9614075ba5",
     "prev": "30b3beae-590e-401c-8688-e024444846b7",
     "regions": {
      "020ca6d0-1a5b-4752-8608-daea8c7c685c": {
       "attrs": {
        "height": 0.8,
        "width": 0.8,
        "x": 0.1,
        "y": 0.1
       },
       "content": {
        "cell": "090b4de1-0511-4f90-9c23-3626c7107bb8",
        "part": "whole"
       },
       "id": "020ca6d0-1a5b-4752-8608-daea8c7c685c"
      }
     }
    },
    "1bf279dc-6c0c-430a-8f62-012f90d2258c": {
     "id": "1bf279dc-6c0c-430a-8f62-012f90d2258c",
     "prev": "5723ab96-983d-4650-bee9-ff678ced891a",
     "regions": {
      "40d90e78-6f56-4c55-97ce-613308a5d6c1": {
       "attrs": {
        "height": 0.8,
        "width": 0.8,
        "x": 0.1,
        "y": 0.1
       },
       "content": {
        "cell": "3561efc3-05fe-4806-8a01-3895ac515439",
        "part": "whole"
       },
       "id": "40d90e78-6f56-4c55-97ce-613308a5d6c1"
      }
     }
    },
    "205da62a-1c12-4695-97c8-d1afe59f6da1": {
     "id": "205da62a-1c12-4695-97c8-d1afe59f6da1",
     "prev": "fc336054-9802-480c-afc9-3fee1b1925e8",
     "regions": {
      "fc2f851a-15e8-414a-8691-1fd7dd52789b": {
       "attrs": {
        "height": 0.8,
        "width": 0.8,
        "x": 0.1,
        "y": 0.1
       },
       "content": {
        "cell": "395c36e1-2a06-4133-a1a9-65329dbcfce2",
        "part": "whole"
       },
       "id": "fc2f851a-15e8-414a-8691-1fd7dd52789b"
      }
     }
    },
    "30b3beae-590e-401c-8688-e024444846b7": {
     "id": "30b3beae-590e-401c-8688-e024444846b7",
     "prev": "ca15686d-52f0-4aed-a1bf-ce4c66b8c299",
     "regions": {
      "0188669e-8007-4f78-8854-ed4bcaf69442": {
       "attrs": {
        "height": 0.8,
        "width": 0.8,
        "x": 0.1,
        "y": 0.1
       },
       "content": {
        "cell": "4f0d9816-e8ef-4156-8b7b-4f03774490e6",
        "part": "whole"
       },
       "id": "0188669e-8007-4f78-8854-ed4bcaf69442"
      }
     }
    },
    "38965042-91ff-4717-a29f-85f38a18fbd4": {
     "id": "38965042-91ff-4717-a29f-85f38a18fbd4",
     "prev": "a770b78f-8bca-4307-ae4b-a1513fb37011",
     "regions": {
      "91295c4f-7257-4a47-aee9-1df020987c21": {
       "attrs": {
        "height": 0.8,
        "width": 0.8,
        "x": 0.1,
        "y": 0.1
       },
       "content": {
        "cell": "73bb4c33-3a57-4adf-bb84-acb0a4151367",
        "part": "whole"
       },
       "id": "91295c4f-7257-4a47-aee9-1df020987c21"
      }
     }
    },
    "507891aa-26ec-469b-8b7f-41fb9052336b": {
     "id": "507891aa-26ec-469b-8b7f-41fb9052336b",
     "prev": "19e90386-7b48-48a3-843f-6f9614075ba5",
     "regions": {
      "0afdd44e-c26e-4b69-be73-15883dbe8e25": {
       "attrs": {
        "height": 0.8,
        "width": 0.8,
        "x": 0.1,
        "y": 0.1
       },
       "content": {
        "cell": "b220d4b5-b919-4d86-b4c2-58339a30afba",
        "part": "whole"
       },
       "id": "0afdd44e-c26e-4b69-be73-15883dbe8e25"
      }
     }
    },
    "5723ab96-983d-4650-bee9-ff678ced891a": {
     "id": "5723ab96-983d-4650-bee9-ff678ced891a",
     "prev": "205da62a-1c12-4695-97c8-d1afe59f6da1",
     "regions": {
      "33d5048f-159e-4ad7-ba3c-fc449af62bda": {
       "attrs": {
        "height": 0.8,
        "width": 0.8,
        "x": 0.1,
        "y": 0.1
       },
       "content": {
        "cell": "91d152a3-af48-4052-99ac-285b080a73ac",
        "part": "whole"
       },
       "id": "33d5048f-159e-4ad7-ba3c-fc449af62bda"
      }
     }
    },
    "9855dd8c-5b87-46dc-a217-0bc6010b2bb9": {
     "id": "9855dd8c-5b87-46dc-a217-0bc6010b2bb9",
     "prev": "38965042-91ff-4717-a29f-85f38a18fbd4",
     "regions": {
      "f92e3cbc-25d5-4d40-9d91-70b818677374": {
       "attrs": {
        "height": 0.8,
        "width": 0.8,
        "x": 0.1,
        "y": 0.1
       },
       "content": {
        "cell": "21dba0c5-26d5-4e33-808d-35d7e0a48480",
        "part": "whole"
       },
       "id": "f92e3cbc-25d5-4d40-9d91-70b818677374"
      }
     }
    },
    "9a8adfb6-f39f-4ea3-a5d2-96b64644c3dc": {
     "id": "9a8adfb6-f39f-4ea3-a5d2-96b64644c3dc",
     "prev": null,
     "regions": {
      "d924aa89-89b6-4044-a319-ead3420c50d9": {
       "attrs": {
        "height": 0.8,
        "width": 0.8,
        "x": 0.1,
        "y": 0.1
       },
       "content": {
        "cell": "7271a6c9-f33f-4f6f-a81a-093832f5510d",
        "part": "whole"
       },
       "id": "d924aa89-89b6-4044-a319-ead3420c50d9"
      }
     }
    },
    "a770b78f-8bca-4307-ae4b-a1513fb37011": {
     "id": "a770b78f-8bca-4307-ae4b-a1513fb37011",
     "prev": "bcaaa340-3f8a-46c8-beec-31d6b9732e28",
     "regions": {
      "811c3fff-1e38-42c7-b9a8-f0921816be37": {
       "attrs": {
        "height": 0.8,
        "width": 0.8,
        "x": 0.1,
        "y": 0.1
       },
       "content": {
        "cell": "7abd1d70-b346-42ae-bb9b-41ff3180d1bd",
        "part": "whole"
       },
       "id": "811c3fff-1e38-42c7-b9a8-f0921816be37"
      }
     }
    },
    "aaa3dc75-dad1-41c8-bced-84ddf0f34695": {
     "id": "aaa3dc75-dad1-41c8-bced-84ddf0f34695",
     "prev": "1bf279dc-6c0c-430a-8f62-012f90d2258c",
     "regions": {
      "ad7b4a39-1e8d-4e49-b21a-d1d279be043b": {
       "attrs": {
        "height": 0.8,
        "width": 0.8,
        "x": 0.1,
        "y": 0.1
       },
       "content": {
        "cell": "54fb91ce-6940-45ae-94a6-75dff556fbaf",
        "part": "whole"
       },
       "id": "ad7b4a39-1e8d-4e49-b21a-d1d279be043b"
      }
     }
    },
    "bcaaa340-3f8a-46c8-beec-31d6b9732e28": {
     "id": "bcaaa340-3f8a-46c8-beec-31d6b9732e28",
     "prev": "aaa3dc75-dad1-41c8-bced-84ddf0f34695",
     "regions": {
      "055d859b-54ad-4cc6-ab28-d150dc06102b": {
       "attrs": {
        "height": 0.8,
        "width": 0.8,
        "x": 0.1,
        "y": 0.1
       },
       "content": {
        "cell": "3af38996-a155-44df-aeda-17092e556b73",
        "part": "whole"
       },
       "id": "055d859b-54ad-4cc6-ab28-d150dc06102b"
      }
     }
    },
    "c51ebd7a-6b75-4b78-9cb6-e6c94c5eadee": {
     "id": "c51ebd7a-6b75-4b78-9cb6-e6c94c5eadee",
     "prev": "9a8adfb6-f39f-4ea3-a5d2-96b64644c3dc",
     "regions": {
      "33025335-3c96-4d15-aaa1-1324a8c129ea": {
       "attrs": {
        "height": 0.8,
        "width": 0.8,
        "x": 0.1,
        "y": 0.1
       },
       "content": {
        "cell": "a9b01051-6bda-413a-86c7-1cb658b476d6",
        "part": "whole"
       },
       "id": "33025335-3c96-4d15-aaa1-1324a8c129ea"
      }
     }
    },
    "ca15686d-52f0-4aed-a1bf-ce4c66b8c299": {
     "id": "ca15686d-52f0-4aed-a1bf-ce4c66b8c299",
     "prev": "c51ebd7a-6b75-4b78-9cb6-e6c94c5eadee",
     "regions": {
      "79d9ec01-1d2c-4678-a754-1aae87a65784": {
       "attrs": {
        "height": 0.8,
        "width": 0.8,
        "x": 0.1,
        "y": 0.1
       },
       "content": {
        "cell": "2b6795e8-150b-496b-bce1-a017aaa2d7b0",
        "part": "whole"
       },
       "id": "79d9ec01-1d2c-4678-a754-1aae87a65784"
      }
     }
    },
    "ccea0fbd-f098-4f41-a2b7-f56e65767a2e": {
     "id": "ccea0fbd-f098-4f41-a2b7-f56e65767a2e",
     "prev": "f4265885-49ca-4ccc-81f5-38c50aa7d6d7",
     "regions": {
      "a2e995ec-8e4f-4289-84b7-f5f59643410c": {
       "attrs": {
        "height": 0.8,
        "width": 0.8,
        "x": 0.1,
        "y": 0.1
       },
       "content": {
        "cell": "010dc0bd-ea66-4a95-bdd1-202eca8bf9c3",
        "part": "whole"
       },
       "id": "a2e995ec-8e4f-4289-84b7-f5f59643410c"
      }
     }
    },
    "f4265885-49ca-4ccc-81f5-38c50aa7d6d7": {
     "id": "f4265885-49ca-4ccc-81f5-38c50aa7d6d7",
     "prev": "9855dd8c-5b87-46dc-a217-0bc6010b2bb9",
     "regions": {
      "c010ea2d-cdd2-4372-8908-98fd0aa3ccb5": {
       "attrs": {
        "height": 0.8,
        "width": 0.8,
        "x": 0.1,
        "y": 0.1
       },
       "content": {
        "cell": "f19d74a2-1b59-4ed3-8260-ca4585702c22",
        "part": "whole"
       },
       "id": "c010ea2d-cdd2-4372-8908-98fd0aa3ccb5"
      }
     }
    },
    "fc336054-9802-480c-afc9-3fee1b1925e8": {
     "id": "fc336054-9802-480c-afc9-3fee1b1925e8",
     "prev": "507891aa-26ec-469b-8b7f-41fb9052336b",
     "regions": {
      "f43def41-e7b2-496f-b006-a911d3ccdb4f": {
       "attrs": {
        "height": 0.8,
        "width": 0.8,
        "x": 0.1,
        "y": 0.1
       },
       "content": {
        "cell": "d506ff5d-4bca-4b1c-bf6d-72a2d919b50b",
        "part": "whole"
       },
       "id": "f43def41-e7b2-496f-b006-a911d3ccdb4f"
      }
     }
    }
   },
   "themes": {}
  }
 },
 "nbformat": 4,
 "nbformat_minor": 2
}
